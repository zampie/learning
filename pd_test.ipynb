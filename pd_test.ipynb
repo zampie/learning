{
 "cells": [
  {
   "cell_type": "code",
   "execution_count": 87,
   "metadata": {},
   "outputs": [
    {
     "name": "stdout",
     "output_type": "stream",
     "text": [
      "   a  b    c\n",
      "A  3  1  3.0\n",
      "B  4  3  5.6\n"
     ]
    }
   ],
   "source": [
    "import pandas as pd\n",
    "\n",
    "data = [[3, 1, 3], [4, 3, 5.6]]\n",
    "df = pd.DataFrame(data)\n",
    "\n",
    "# 设置列名\n",
    "df.columns = ['a', 'b', 'c']\n",
    "# 设置行名\n",
    "df.index = ['A', 'B']\n",
    "# df.set_index('a')  # 把‘a’列作为index\n",
    "\n",
    "print(df)"
   ]
  },
  {
   "cell_type": "code",
   "execution_count": 88,
   "metadata": {},
   "outputs": [
    {
     "data": {
      "text/plain": [
       "a    7.0\n",
       "b    4.0\n",
       "c    8.6\n",
       "dtype: float64"
      ]
     },
     "execution_count": 88,
     "metadata": {},
     "output_type": "execute_result"
    }
   ],
   "source": [
    "# 对每列(series)应用函数\n",
    "df.apply(sum)\n"
   ]
  },
  {
   "cell_type": "code",
   "execution_count": 89,
   "metadata": {},
   "outputs": [
    {
     "data": {
      "text/plain": [
       "A     9\n",
       "B    16\n",
       "Name: a, dtype: int64"
      ]
     },
     "execution_count": 89,
     "metadata": {},
     "output_type": "execute_result"
    }
   ],
   "source": [
    "\n",
    "# 对series的每个元素应用函数\n",
    "df.a.map(lambda x: x ** 2)\n"
   ]
  },
  {
   "cell_type": "code",
   "execution_count": 90,
   "metadata": {},
   "outputs": [
    {
     "data": {
      "text/html": [
       "<div>\n",
       "<style scoped>\n",
       "    .dataframe tbody tr th:only-of-type {\n",
       "        vertical-align: middle;\n",
       "    }\n",
       "\n",
       "    .dataframe tbody tr th {\n",
       "        vertical-align: top;\n",
       "    }\n",
       "\n",
       "    .dataframe thead th {\n",
       "        text-align: right;\n",
       "    }\n",
       "</style>\n",
       "<table border=\"1\" class=\"dataframe\">\n",
       "  <thead>\n",
       "    <tr style=\"text-align: right;\">\n",
       "      <th></th>\n",
       "      <th>a</th>\n",
       "      <th>b</th>\n",
       "      <th>c</th>\n",
       "    </tr>\n",
       "  </thead>\n",
       "  <tbody>\n",
       "    <tr>\n",
       "      <th>A</th>\n",
       "      <td>9</td>\n",
       "      <td>1</td>\n",
       "      <td>9.00</td>\n",
       "    </tr>\n",
       "    <tr>\n",
       "      <th>B</th>\n",
       "      <td>16</td>\n",
       "      <td>9</td>\n",
       "      <td>31.36</td>\n",
       "    </tr>\n",
       "  </tbody>\n",
       "</table>\n",
       "</div>"
      ],
      "text/plain": [
       "    a  b      c\n",
       "A   9  1   9.00\n",
       "B  16  9  31.36"
      ]
     },
     "execution_count": 90,
     "metadata": {},
     "output_type": "execute_result"
    }
   ],
   "source": [
    "\n",
    "# 对dataframe每列的series的每个元素应用函数\n",
    "df.applymap(lambda x: x ** 2)\n"
   ]
  },
  {
   "cell_type": "code",
   "execution_count": 91,
   "metadata": {},
   "outputs": [
    {
     "name": "stdout",
     "output_type": "stream",
     "text": [
      "a\n",
      "b\n",
      "c\n"
     ]
    }
   ],
   "source": [
    "\n",
    "# 直接遍历df，输出的是列名\n",
    "for s in df:\n",
    "    print(s)\n",
    "# a\n",
    "# b\n",
    "# c\n",
    "\n"
   ]
  },
  {
   "cell_type": "code",
   "execution_count": 92,
   "metadata": {},
   "outputs": [
    {
     "name": "stdout",
     "output_type": "stream",
     "text": [
      "('A', a    3.0\n",
      "b    1.0\n",
      "c    3.0\n",
      "Name: A, dtype: float64)\n",
      "('B', a    4.0\n",
      "b    3.0\n",
      "c    5.6\n",
      "Name: B, dtype: float64)\n"
     ]
    }
   ],
   "source": [
    "\n",
    "# 按行遍历\n",
    "for s in df.iterrows():\n",
    "    print(s)\n"
   ]
  },
  {
   "cell_type": "code",
   "execution_count": 93,
   "metadata": {},
   "outputs": [
    {
     "name": "stdout",
     "output_type": "stream",
     "text": [
      "('a', A    3\n",
      "B    4\n",
      "Name: a, dtype: int64)\n",
      "('b', A    1\n",
      "B    3\n",
      "Name: b, dtype: int64)\n",
      "('c', A    3.0\n",
      "B    5.6\n",
      "Name: c, dtype: float64)\n"
     ]
    }
   ],
   "source": [
    "\n",
    "# 按列遍历\n",
    "for s in df.iteritems():\n",
    "    print(s)\n"
   ]
  },
  {
   "cell_type": "code",
   "execution_count": 94,
   "metadata": {},
   "outputs": [],
   "source": [
    "\n",
    "# 注意: append, apply, astype, 返回的都是拷贝\n",
    "\n",
    "df2 = df.append({'a': 3, 'b': 2}, ignore_index=True)  # 用字典append时必须要ignore_index=True\n",
    "\n"
   ]
  },
  {
   "cell_type": "code",
   "execution_count": 95,
   "metadata": {},
   "outputs": [
    {
     "data": {
      "text/html": [
       "<div>\n",
       "<style scoped>\n",
       "    .dataframe tbody tr th:only-of-type {\n",
       "        vertical-align: middle;\n",
       "    }\n",
       "\n",
       "    .dataframe tbody tr th {\n",
       "        vertical-align: top;\n",
       "    }\n",
       "\n",
       "    .dataframe thead th {\n",
       "        text-align: right;\n",
       "    }\n",
       "</style>\n",
       "<table border=\"1\" class=\"dataframe\">\n",
       "  <thead>\n",
       "    <tr style=\"text-align: right;\">\n",
       "      <th></th>\n",
       "      <th>a</th>\n",
       "      <th>b</th>\n",
       "      <th>c</th>\n",
       "      <th>0</th>\n",
       "    </tr>\n",
       "  </thead>\n",
       "  <tbody>\n",
       "    <tr>\n",
       "      <th>0</th>\n",
       "      <td>3.0</td>\n",
       "      <td>1.0</td>\n",
       "      <td>3.0</td>\n",
       "      <td>NaN</td>\n",
       "    </tr>\n",
       "    <tr>\n",
       "      <th>1</th>\n",
       "      <td>4.0</td>\n",
       "      <td>3.0</td>\n",
       "      <td>5.6</td>\n",
       "      <td>NaN</td>\n",
       "    </tr>\n",
       "    <tr>\n",
       "      <th>2</th>\n",
       "      <td>NaN</td>\n",
       "      <td>NaN</td>\n",
       "      <td>NaN</td>\n",
       "      <td>4.0</td>\n",
       "    </tr>\n",
       "    <tr>\n",
       "      <th>3</th>\n",
       "      <td>NaN</td>\n",
       "      <td>NaN</td>\n",
       "      <td>NaN</td>\n",
       "      <td>5.0</td>\n",
       "    </tr>\n",
       "  </tbody>\n",
       "</table>\n",
       "</div>"
      ],
      "text/plain": [
       "     a    b    c    0\n",
       "0  3.0  1.0  3.0  NaN\n",
       "1  4.0  3.0  5.6  NaN\n",
       "2  NaN  NaN  NaN  4.0\n",
       "3  NaN  NaN  NaN  5.0"
      ]
     },
     "execution_count": 95,
     "metadata": {},
     "output_type": "execute_result"
    }
   ],
   "source": [
    "\n",
    "df.append([4, 5], ignore_index=True)  # 不指定名称，会依次添加新行列\n"
   ]
  },
  {
   "cell_type": "code",
   "execution_count": 96,
   "metadata": {},
   "outputs": [
    {
     "name": "stdout",
     "output_type": "stream",
     "text": [
      "nan\n"
     ]
    }
   ],
   "source": [
    "df3 = df2  # 引用,\n",
    "df4 = df2.copy()\n",
    "\n",
    "# loc下表访问，行列\n",
    "print(df3.loc[2, 'c'])\n",
    "df3.loc[2, 'c'] = 4\n",
    "# 这种方式可以改变df3中的值， 注意df2也会变\n"
   ]
  },
  {
   "cell_type": "code",
   "execution_count": 97,
   "metadata": {},
   "outputs": [
    {
     "name": "stdout",
     "output_type": "stream",
     "text": [
      "<class 'numpy.float64'>\n",
      "False\n",
      "False\n",
      "False\n",
      "True\n",
      "nan\n"
     ]
    }
   ],
   "source": [
    "\n",
    "# 注意：判断某项元素是非为空只能用np.isnan()\n",
    "import numpy as np\n",
    "\n",
    "print(type(df4.loc[2, 'c']))  # <class 'numpy.float64'>\n",
    "print(df4.loc[2, 'c'] == float('nan'))  # False\n",
    "print(df4.loc[2, 'c'] == np.nan)  # False\n",
    "print(not bool(df4.loc[2, 'c']))  # False\n",
    "print(np.isnan(df4.loc[2, 'c']))  # True\n",
    "\n",
    "# 也可以用这种方式访问元素\n",
    "print(df4['c'][2])\n",
    "# 赋值也有效\n",
    "df4['c'][2] = 88\n"
   ]
  }
 ],
 "metadata": {
  "interpreter": {
   "hash": "940d52bc74d5fa8af16c5df4d6da6394dfbcffb9df81df7f85a018cc0ff97e45"
  },
  "kernelspec": {
   "display_name": "Python 3.9.7 ('base')",
   "language": "python",
   "name": "python3"
  },
  "language_info": {
   "codemirror_mode": {
    "name": "ipython",
    "version": 3
   },
   "file_extension": ".py",
   "mimetype": "text/x-python",
   "name": "python",
   "nbconvert_exporter": "python",
   "pygments_lexer": "ipython3",
   "version": "3.9.7"
  },
  "orig_nbformat": 4
 },
 "nbformat": 4,
 "nbformat_minor": 2
}
